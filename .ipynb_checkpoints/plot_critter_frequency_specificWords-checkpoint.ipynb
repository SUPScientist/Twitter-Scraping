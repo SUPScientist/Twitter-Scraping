{
 "cells": [
  {
   "cell_type": "code",
   "execution_count": 81,
   "metadata": {},
   "outputs": [],
   "source": [
    "import pandas as pd\n",
    "from collections import Counter\n",
    "import matplotlib.pyplot as plt\n",
    "import numpy as np\n",
    "import re\n",
    "import nltk\n",
    "import seaborn as sns"
   ]
  },
  {
   "cell_type": "code",
   "execution_count": 5,
   "metadata": {},
   "outputs": [
    {
     "data": {
      "text/html": [
       "<div>\n",
       "<style scoped>\n",
       "    .dataframe tbody tr th:only-of-type {\n",
       "        vertical-align: middle;\n",
       "    }\n",
       "\n",
       "    .dataframe tbody tr th {\n",
       "        vertical-align: top;\n",
       "    }\n",
       "\n",
       "    .dataframe thead th {\n",
       "        text-align: right;\n",
       "    }\n",
       "</style>\n",
       "<table border=\"1\" class=\"dataframe\">\n",
       "  <thead>\n",
       "    <tr style=\"text-align: right;\">\n",
       "      <th></th>\n",
       "      <th>id</th>\n",
       "      <th>created_at</th>\n",
       "      <th>favorites</th>\n",
       "      <th>retweets</th>\n",
       "      <th>text</th>\n",
       "    </tr>\n",
       "  </thead>\n",
       "  <tbody>\n",
       "    <tr>\n",
       "      <th>0</th>\n",
       "      <td>1126359313985839104</td>\n",
       "      <td>2019-05-09 05:32:41</td>\n",
       "      <td>0</td>\n",
       "      <td>0</td>\n",
       "      <td>b'@MontereyAq jellies!!!'</td>\n",
       "    </tr>\n",
       "    <tr>\n",
       "      <th>1</th>\n",
       "      <td>1126358394686844928</td>\n",
       "      <td>2019-05-09 05:29:02</td>\n",
       "      <td>0</td>\n",
       "      <td>0</td>\n",
       "      <td>b'@MontereyAq I love otters of course, but for...</td>\n",
       "    </tr>\n",
       "    <tr>\n",
       "      <th>2</th>\n",
       "      <td>1126358143137501184</td>\n",
       "      <td>2019-05-09 05:28:02</td>\n",
       "      <td>0</td>\n",
       "      <td>0</td>\n",
       "      <td>b'@MontereyAq Sea Otter ~ \\xf0\\x9f\\x98\\x8a'</td>\n",
       "    </tr>\n",
       "    <tr>\n",
       "      <th>3</th>\n",
       "      <td>1126357370739675136</td>\n",
       "      <td>2019-05-09 05:24:58</td>\n",
       "      <td>0</td>\n",
       "      <td>0</td>\n",
       "      <td>b\"@MontereyAq Toothed cetaceans, can't pick a ...</td>\n",
       "    </tr>\n",
       "    <tr>\n",
       "      <th>4</th>\n",
       "      <td>1126357162714849281</td>\n",
       "      <td>2019-05-09 05:24:08</td>\n",
       "      <td>0</td>\n",
       "      <td>0</td>\n",
       "      <td>b'@MontereyAq https://t.co/qGtvsWuqeW'</td>\n",
       "    </tr>\n",
       "  </tbody>\n",
       "</table>\n",
       "</div>"
      ],
      "text/plain": [
       "                    id           created_at  favorites  retweets  \\\n",
       "0  1126359313985839104  2019-05-09 05:32:41          0         0   \n",
       "1  1126358394686844928  2019-05-09 05:29:02          0         0   \n",
       "2  1126358143137501184  2019-05-09 05:28:02          0         0   \n",
       "3  1126357370739675136  2019-05-09 05:24:58          0         0   \n",
       "4  1126357162714849281  2019-05-09 05:24:08          0         0   \n",
       "\n",
       "                                                text  \n",
       "0                          b'@MontereyAq jellies!!!'  \n",
       "1  b'@MontereyAq I love otters of course, but for...  \n",
       "2        b'@MontereyAq Sea Otter ~ \\xf0\\x9f\\x98\\x8a'  \n",
       "3  b\"@MontereyAq Toothed cetaceans, can't pick a ...  \n",
       "4             b'@MontereyAq https://t.co/qGtvsWuqeW'  "
      ]
     },
     "execution_count": 5,
     "metadata": {},
     "output_type": "execute_result"
    }
   ],
   "source": [
    "df_retwe = pd.read_csv('tweet_replies.csv')\n",
    "df_retwe.head()"
   ]
  },
  {
   "cell_type": "code",
   "execution_count": 6,
   "metadata": {},
   "outputs": [],
   "source": [
    "all_the_words_nest = []\n",
    "\n",
    "for index, row in df_retwe.iterrows():\n",
    "    row_words = row.text.split(\" \")\n",
    "    all_the_words_nest.append(row_words)\n",
    "    \n",
    "all_the_words = [item for sublist in all_the_words_nest for item in sublist]\n",
    "\n",
    "\n",
    "    \n"
   ]
  },
  {
   "cell_type": "code",
   "execution_count": 89,
   "metadata": {},
   "outputs": [],
   "source": [
    "keywords = ['kelp', 'plankton', 'cuttlefish', 'ray', 'shark', \n",
    "            'jelly', 'dolphin', 'whale', 'puffin', 'penguin', \n",
    "            'squid', 'mola', 'octopus', 'otter', 'turtle']\n",
    "\n",
    "a = df_retwe['text'].str.lower().str.cat(sep=' ')\n",
    "words = nltk.tokenize.word_tokenize(a)\n",
    "word_dist = nltk.FreqDist(words)\n",
    "\n",
    "N = 1000\n",
    "common_words = pd.DataFrame(word_dist.most_common(N),\n",
    "                    columns=['Word', 'Frequency'])\n",
    "common_words.to_csv('common_words_in_replies.csv')"
   ]
  },
  {
   "cell_type": "code",
   "execution_count": 95,
   "metadata": {},
   "outputs": [
    {
     "data": {
      "text/html": [
       "<div>\n",
       "<style scoped>\n",
       "    .dataframe tbody tr th:only-of-type {\n",
       "        vertical-align: middle;\n",
       "    }\n",
       "\n",
       "    .dataframe tbody tr th {\n",
       "        vertical-align: top;\n",
       "    }\n",
       "\n",
       "    .dataframe thead th {\n",
       "        text-align: right;\n",
       "    }\n",
       "</style>\n",
       "<table border=\"1\" class=\"dataframe\">\n",
       "  <thead>\n",
       "    <tr style=\"text-align: right;\">\n",
       "      <th></th>\n",
       "      <th>keywords</th>\n",
       "      <th>mentions</th>\n",
       "    </tr>\n",
       "  </thead>\n",
       "  <tbody>\n",
       "    <tr>\n",
       "      <th>13</th>\n",
       "      <td>otter</td>\n",
       "      <td>59</td>\n",
       "    </tr>\n",
       "    <tr>\n",
       "      <th>4</th>\n",
       "      <td>shark</td>\n",
       "      <td>44</td>\n",
       "    </tr>\n",
       "    <tr>\n",
       "      <th>7</th>\n",
       "      <td>whale</td>\n",
       "      <td>33</td>\n",
       "    </tr>\n",
       "    <tr>\n",
       "      <th>12</th>\n",
       "      <td>octopus</td>\n",
       "      <td>23</td>\n",
       "    </tr>\n",
       "    <tr>\n",
       "      <th>3</th>\n",
       "      <td>ray</td>\n",
       "      <td>22</td>\n",
       "    </tr>\n",
       "    <tr>\n",
       "      <th>6</th>\n",
       "      <td>dolphin</td>\n",
       "      <td>14</td>\n",
       "    </tr>\n",
       "    <tr>\n",
       "      <th>2</th>\n",
       "      <td>cuttlefish</td>\n",
       "      <td>12</td>\n",
       "    </tr>\n",
       "    <tr>\n",
       "      <th>14</th>\n",
       "      <td>turtle</td>\n",
       "      <td>12</td>\n",
       "    </tr>\n",
       "    <tr>\n",
       "      <th>11</th>\n",
       "      <td>mola</td>\n",
       "      <td>9</td>\n",
       "    </tr>\n",
       "    <tr>\n",
       "      <th>10</th>\n",
       "      <td>squid</td>\n",
       "      <td>6</td>\n",
       "    </tr>\n",
       "    <tr>\n",
       "      <th>5</th>\n",
       "      <td>jelly</td>\n",
       "      <td>4</td>\n",
       "    </tr>\n",
       "    <tr>\n",
       "      <th>9</th>\n",
       "      <td>penguin</td>\n",
       "      <td>3</td>\n",
       "    </tr>\n",
       "    <tr>\n",
       "      <th>1</th>\n",
       "      <td>plankton</td>\n",
       "      <td>2</td>\n",
       "    </tr>\n",
       "    <tr>\n",
       "      <th>0</th>\n",
       "      <td>kelp</td>\n",
       "      <td>1</td>\n",
       "    </tr>\n",
       "    <tr>\n",
       "      <th>8</th>\n",
       "      <td>puffin</td>\n",
       "      <td>0</td>\n",
       "    </tr>\n",
       "  </tbody>\n",
       "</table>\n",
       "</div>"
      ],
      "text/plain": [
       "      keywords  mentions\n",
       "13       otter        59\n",
       "4        shark        44\n",
       "7        whale        33\n",
       "12     octopus        23\n",
       "3          ray        22\n",
       "6      dolphin        14\n",
       "2   cuttlefish        12\n",
       "14      turtle        12\n",
       "11        mola         9\n",
       "10       squid         6\n",
       "5        jelly         4\n",
       "9      penguin         3\n",
       "1     plankton         2\n",
       "0         kelp         1\n",
       "8       puffin         0"
      ]
     },
     "execution_count": 95,
     "metadata": {},
     "output_type": "execute_result"
    }
   ],
   "source": [
    "counts = np.zeros(len(keywords))\n",
    "data = {'keywords':keywords, 'mentions':counts}\n",
    "keyword_counts = pd.DataFrame(data)\n",
    "\n",
    "for word in keywords:\n",
    "    df_retwe[word] = df_retwe.astype(str).sum(axis=1).str.contains(word)\n",
    "\n",
    "df_keywords = df_retwe[keywords]\n",
    "\n",
    "key_sums = df_keywords.sum()\n",
    "df_key_sums = pd.DataFrame(key_sums)\n",
    "df_key_sums.reset_index(inplace = True)\n",
    "df_key_sums.columns = ['keywords', 'mentions']\n",
    "df_key_sums.sort_values(by = 'mentions', ascending = False, inplace = True)\n",
    "df_key_sums"
   ]
  },
  {
   "cell_type": "code",
   "execution_count": 96,
   "metadata": {},
   "outputs": [
    {
     "data": {
      "text/plain": [
       "(array([ 0,  1,  2,  3,  4,  5,  6,  7,  8,  9, 10, 11, 12, 13, 14]),\n",
       " <a list of 15 Text xticklabel objects>)"
      ]
     },
     "execution_count": 96,
     "metadata": {},
     "output_type": "execute_result"
    },
    {
     "data": {
      "image/png": "[encoded data removed]",
      "text/plain": [
       "<Figure size 720x720 with 1 Axes>"
      ]
     },
     "metadata": {
      "needs_background": "light"
     },
     "output_type": "display_data"
    }
   ],
   "source": [
    "bar_width = 0.35\n",
    "\n",
    "plt.figure(figsize = (10, 10))\n",
    "sns.barplot(x=df_key_sums['keywords'], y=df_key_sums['mentions'], palette=\"deep\")\n",
    "plt.xticks(rotation=45)\n",
    "# plt.bar(df_key_sums['keywords'], df_key_sums['sums'])"
   ]
  },
  {
   "cell_type": "code",
   "execution_count": null,
   "metadata": {},
   "outputs": [],
   "source": []
  },
  {
   "cell_type": "code",
   "execution_count": null,
   "metadata": {},
   "outputs": [],
   "source": []
  }
 ],
 "metadata": {
  "kernelspec": {
   "display_name": "Python 3",
   "language": "python",
   "name": "python3"
  },
  "language_info": {
   "codemirror_mode": {
    "name": "ipython",
    "version": 3
   },
   "file_extension": ".py",
   "mimetype": "text/x-python",
   "name": "python",
   "nbconvert_exporter": "python",
   "pygments_lexer": "ipython3",
   "version": "3.6.8"
  }
 },
 "nbformat": 4,
 "nbformat_minor": 2
}
