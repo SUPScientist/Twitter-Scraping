{
 "cells": [
  {
   "cell_type": "code",
   "execution_count": 1,
   "metadata": {},
   "outputs": [],
   "source": [
    "import tweepy\n",
    "import csv\n",
    "import json\n",
    "import pandas as pd\n",
    "import numpy as np\n",
    "import os"
   ]
  },
  {
   "cell_type": "code",
   "execution_count": 2,
   "metadata": {},
   "outputs": [],
   "source": [
    "with open('../twitter_credentials.json') as cred_data:\n",
    "    info = json.load(cred_data)\n",
    "    consumer_key = info['CONSUMER_KEY']\n",
    "    consumer_secret = info['CONSUMER_SECRET']\n",
    "    access_key = info['ACCESS_KEY']\n",
    "    access_secret = info['ACCESS_SECRET']"
   ]
  },
  {
   "cell_type": "code",
   "execution_count": 3,
   "metadata": {},
   "outputs": [],
   "source": [
    "auth = tweepy.OAuthHandler(consumer_key, consumer_secret)\n",
    "auth.set_access_token(access_key, access_secret)\n",
    "api = tweepy.API(auth)"
   ]
  },
  {
   "cell_type": "code",
   "execution_count": 10,
   "metadata": {},
   "outputs": [],
   "source": [
    "good_tweet_idStr = '1273621086933057536'\n",
    "query = \"to:@rachelgwenllian\"\n",
    "max_tweets = 6000\n",
    "\n",
    "output_filename = 'tweet_replies_'+good_tweet_idStr+'.csv'\n",
    "output_filepath = os.path.join('Data', output_filename)"
   ]
  },
  {
   "cell_type": "code",
   "execution_count": 11,
   "metadata": {},
   "outputs": [],
   "source": [
    "all_the_tweets = []\n",
    "\n",
    "# Create a list of tweets that match search criteria\n",
    "\n",
    "for tweet in tweepy.Cursor(api.search, q = query, since_id = good_tweet_idStr, \n",
    "                           timeout=999999).items(max_tweets):\n",
    "#                            result_type='recent',timeout=999999).items(max_tweets):\n",
    "    if hasattr(tweet, 'in_reply_to_status_id_str'):\n",
    "        if (tweet.in_reply_to_status_id_str==good_tweet_idStr):\n",
    "            all_the_tweets.append(tweet)"
   ]
  },
  {
   "cell_type": "code",
   "execution_count": 13,
   "metadata": {},
   "outputs": [],
   "source": [
    "# transform the tweets into a 2D array that will be used to populate the csv\n",
    "outtweets = [[tweet.id_str, tweet.created_at, tweet.favorite_count, tweet.retweet_count,\n",
    "tweet.text.encode('utf-8')] for tweet in all_the_tweets]\n",
    "\n",
    "# writing to the csv file\n",
    "with open(output_filepath, 'w', encoding='utf8') as f:\n",
    "    writer = csv.writer(f)\n",
    "    writer.writerow(['id', 'created_at', 'favorites', 'retweets', 'text'])\n",
    "    writer.writerows(outtweets)\n",
    "        \n",
    "        \n",
    "# replies=[] \n",
    "# non_bmp_map = dict.fromkeys(range(0x10000, sys.maxunicode + 1), 0xfffd)  \n",
    "# for full_tweets in tweepy.Cursor(api.user_timeline,screen_name=name,timeout=999999).items(10):\n",
    "#   for tweet in tweepy.Cursor(api.search,q='to:'+name,result_type='recent',timeout=999999).items(1000):\n",
    "#     if hasattr(tweet, 'in_reply_to_status_id_str'):\n",
    "#       if (tweet.in_reply_to_status_id_str==full_tweets.id_str):\n",
    "#         replies.append(tweet.text)\n",
    "#   print(\"Tweet :\",full_tweets.text.translate(non_bmp_map))\n",
    "#   for elements in replies:\n",
    "#        print(\"Replies :\",elements)"
   ]
  },
  {
   "cell_type": "code",
   "execution_count": 9,
   "metadata": {},
   "outputs": [
    {
     "data": {
      "text/plain": [
       "[]"
      ]
     },
     "execution_count": 9,
     "metadata": {},
     "output_type": "execute_result"
    }
   ],
   "source": [
    "all_the_tweets"
   ]
  },
  {
   "cell_type": "code",
   "execution_count": null,
   "metadata": {},
   "outputs": [],
   "source": []
  }
 ],
 "metadata": {
  "kernelspec": {
   "display_name": "Python 3",
   "language": "python",
   "name": "python3"
  },
  "language_info": {
   "codemirror_mode": {
    "name": "ipython",
    "version": 3
   },
   "file_extension": ".py",
   "mimetype": "text/x-python",
   "name": "python",
   "nbconvert_exporter": "python",
   "pygments_lexer": "ipython3",
   "version": "3.7.7"
  }
 },
 "nbformat": 4,
 "nbformat_minor": 4
}
